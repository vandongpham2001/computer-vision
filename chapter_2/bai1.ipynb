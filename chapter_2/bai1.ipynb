{
 "cells": [
  {
   "cell_type": "code",
   "execution_count": 3,
   "id": "59f36bd0",
   "metadata": {},
   "outputs": [],
   "source": [
    "import matplotlib.image as img\n",
    "import numpy as np\n",
    "import math\n",
    "#đọc ảnh\n",
    "pic = img.imread('small_color.png')\n",
    "\n",
    "#lấy chiều rộng, chiều cao\n",
    "w1, h1 = pic.shape[:2]\n",
    "\n",
    "#tính chiều rộng, chiều cao mới\n",
    "w2 = w1 * 4\n",
    "h2 = h1 * 4\n"
   ]
  },
  {
   "cell_type": "code",
   "execution_count": 6,
   "id": "7e6306f8",
   "metadata": {},
   "outputs": [],
   "source": [
    "#Resize ảnh bằng cách Nearest Neighbor\n",
    "#tỉ lệ hình mới và hình cũ\n",
    "xScale = w2/w1\n",
    "yScale = h2/h1\n",
    "\n",
    "#tạo ma trận của ảnh mới\n",
    "newImage = np.zeros([w2, h2, 3])\n",
    "\n",
    "for i in range(w2):\n",
    "    for j in range(h2):\n",
    "        newImage[i, j]= pic[int(i / xScale),\n",
    "                                    int(j / yScale)]\n",
    "\n",
    "# Save the image after scaling\n",
    "img.imsave('imgNearneighbor.png', newImage)\n"
   ]
  },
  {
   "cell_type": "code",
   "execution_count": 7,
   "id": "672e690a",
   "metadata": {},
   "outputs": [],
   "source": [
    "#Resize ảnh bằng cách Linear"
   ]
  },
  {
   "cell_type": "code",
   "execution_count": 12,
   "id": "8f922b63",
   "metadata": {},
   "outputs": [],
   "source": [
    "#tìm a,b của phương trình tuyến tính aX + b = Y\n",
    "# -0.5a + b = -0.5\n",
    "# (w2 - 0.5) + b = (w1 - 0.5)\n",
    "def FindA_B(w1, w2):\n",
    "    a = w1/w2\n",
    "    b = -0.5 + 0.5*w1/w2\n",
    "    return a, b"
   ]
  },
  {
   "cell_type": "code",
   "execution_count": 13,
   "id": "c6b250a1",
   "metadata": {},
   "outputs": [],
   "source": [
    "# tìm tọa độ của điểm cũ tương ứng với điểm mới\n",
    "def xyOld(a, b, xNew, yNew):\n",
    "    xOld = a*xNew + b\n",
    "    yOld = a*yNew + b\n",
    "    return xOld, yOld"
   ]
  },
  {
   "cell_type": "code",
   "execution_count": 14,
   "id": "e647cfbd",
   "metadata": {},
   "outputs": [],
   "source": [
    "# tìm tọa độ 4 điểm gần nhất\n",
    "def pointNearest(x, y):\n",
    "    #điểm trên, bên trái\n",
    "    x1 = math.floor(x)\n",
    "    y1 = math.floor(y) \n",
    "    #điểm trên, bên phải\n",
    "    x2 = math.ceil(x)\n",
    "    y2 = math.floor(y) \n",
    "    #điểm dưới, bên trái\n",
    "    x3 = math.floor(x)\n",
    "    y3 = math.ceil(y)\n",
    "    #điểm dưới, bên phải\n",
    "    x4 = math.ceil(x)\n",
    "    y4 = math.ceil(y)\n",
    "    if x1<0 or x2<0 or x3<0 or x4<0 or y1<0 or y2<0 or y3<0 or y4 < 0:\n",
    "        return 0,0,0,0,0,0,0,0\n",
    "    if x1>=w2 or x2>=w2 or x3>=w2 or x4>=w2 or y1>=w2 or y2>=w2 or y3>=w2 or y4 >= w2:\n",
    "        return w2-1,w2-1,w2-1,w2-1,w2-1,w2-1,w2-1,w2-1\n",
    "    return x1, y1, x2, y2, x3, y3, x4, y4"
   ]
  },
  {
   "cell_type": "code",
   "execution_count": 15,
   "id": "0516dd97",
   "metadata": {},
   "outputs": [],
   "source": [
    "#tìm q1, q2\n",
    "def Find_q1_q2(y, x1, y1, x2, y2):\n",
    "    #khoảng cách từ q đến điểm ở trên\n",
    "    d1 = y - y1\n",
    "    #khoảng cách từ q đến điểm ở dưới\n",
    "    d2 = y2 -y\n",
    "    R = pic[x1, y1][0] * d1 + pic[x2, y2][0] * d2\n",
    "    G = pic[x1, y1][1] * d1 + pic[x2, y2][1] * d2\n",
    "    B = pic[x1, y1][2] * d1 + pic[x2, y2][2] * d2\n",
    "    return [R, G, B]\n"
   ]
  },
  {
   "cell_type": "code",
   "execution_count": 17,
   "id": "63ab37fe",
   "metadata": {},
   "outputs": [],
   "source": [
    "#tìm q\n",
    "def Find_q(x, x1, x2, q1, q2):\n",
    "    #khoảng cách từ q đến q1\n",
    "    d1 = x - x1\n",
    "    #khoảng cách từ q đến q2\n",
    "    d2 = x2 - x\n",
    "    R = q2[0] * d1 + q1[0] * d2\n",
    "    G = q2[1] * d1 + q1[1] * d2\n",
    "    B = q2[2] * d1 + q1[2] * d2\n",
    "    return [R, G, B]"
   ]
  },
  {
   "cell_type": "code",
   "execution_count": 18,
   "id": "120f7b9e",
   "metadata": {},
   "outputs": [],
   "source": [
    "#tạo ma trân của ảnh mới\n",
    "newImg = np.zeros([w2, h2, 3])\n",
    "\n",
    "#tìm a, b\n",
    "a, b = FindA_B(w1, w2)\n",
    "for i in range(w2-2):\n",
    "    for j in range(h2-2):\n",
    "        #quy điểm bên hình mới về hình cũ\n",
    "        xOld, yOld = xyOld(a, b, i, j)\n",
    "\n",
    "        #tìm tọa độ 4 điểm gần nhất\n",
    "        x1, y1, x2, y2, x3, y3, x4, y4 = pointNearest(xOld, yOld)\n",
    "\n",
    "        #tìm q1, q2\n",
    "        q1 = Find_q1_q2(yOld, x1, y1, x3, y3)\n",
    "        q2 = Find_q1_q2(yOld, x2, y2, x4, y4)\n",
    "\n",
    "        #tìm q\n",
    "        q = Find_q(xOld, x1, x2, q1, q2)\n",
    "        newImg[i, j] = q\n",
    "        \n",
    "#Lưu ảnh\n",
    "img.imsave('imgLinear.png', newImg);"
   ]
  },
  {
   "cell_type": "code",
   "execution_count": null,
   "id": "fb0a0c0d",
   "metadata": {},
   "outputs": [],
   "source": []
  }
 ],
 "metadata": {
  "kernelspec": {
   "display_name": "Python 3 (ipykernel)",
   "language": "python",
   "name": "python3"
  },
  "language_info": {
   "codemirror_mode": {
    "name": "ipython",
    "version": 3
   },
   "file_extension": ".py",
   "mimetype": "text/x-python",
   "name": "python",
   "nbconvert_exporter": "python",
   "pygments_lexer": "ipython3",
   "version": "3.9.1"
  }
 },
 "nbformat": 4,
 "nbformat_minor": 5
}
