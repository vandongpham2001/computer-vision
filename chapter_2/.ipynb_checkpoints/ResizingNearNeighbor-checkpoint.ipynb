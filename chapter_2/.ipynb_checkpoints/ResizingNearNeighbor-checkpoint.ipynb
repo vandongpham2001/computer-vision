{
 "cells": [
  {
   "cell_type": "code",
   "execution_count": 8,
   "id": "c017e5a2",
   "metadata": {},
   "outputs": [],
   "source": [
    "import matplotlib.image as img\n",
    "import numpy as npy\n",
    "\n",
    "#đọc ảnh\n",
    "pic = img.imread(\"small_color.png\");\n",
    "\n",
    "# lấy chiều rộng, chiều cao của ảnh\n",
    "w, h = pic.shape[:2];\n",
    "\n",
    "# chiều rộng, chiều cao mới\n",
    "xNew = int(w * 4);\n",
    "yNew = int(h * 4);\n",
    "\n",
    "#tỉ lệ hình mới và hình cũ\n",
    "xScale = xNew/(w);\n",
    "yScale = yNew/(h);\n",
    "\n",
    "#tạo ma trận của ảnh mới\n",
    "newImage = npy.zeros([xNew, yNew, 3]);\n",
    "\n",
    "for i in range(xNew):\n",
    "    for j in range(yNew):\n",
    "        newImage[i, j]= pic[int(i / xScale),\n",
    "                                    int(j / yScale)]\n",
    "\n",
    "# Save the image after scaling\n",
    "img.imsave('imgNearneighbor.png', newImage);\n"
   ]
  },
  {
   "cell_type": "code",
   "execution_count": null,
   "id": "15e1a6cc",
   "metadata": {},
   "outputs": [],
   "source": []
  }
 ],
 "metadata": {
  "kernelspec": {
   "display_name": "Python 3 (ipykernel)",
   "language": "python",
   "name": "python3"
  },
  "language_info": {
   "codemirror_mode": {
    "name": "ipython",
    "version": 3
   },
   "file_extension": ".py",
   "mimetype": "text/x-python",
   "name": "python",
   "nbconvert_exporter": "python",
   "pygments_lexer": "ipython3",
   "version": "3.9.1"
  }
 },
 "nbformat": 4,
 "nbformat_minor": 5
}
