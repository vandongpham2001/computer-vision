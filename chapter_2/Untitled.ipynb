{
 "cells": [
  {
   "cell_type": "code",
   "execution_count": null,
   "id": "a488835c",
   "metadata": {},
   "outputs": [],
   "source": [
    "# def resizeNearNeighbor(pixels, w1, h1, w2, h2):\n",
    "#     temp = [0]*w2*h2\n",
    "#     x_ratio = w1/w2\n",
    "#     y_ratio = h1/h2\n",
    "#     for i in range(h2):\n",
    "#         for j in range(w2):\n",
    "#             px = math.floor(j*x_ratio)\n",
    "#             py = math.floor(i*y_ratio)\n",
    "#             temp[(i*w2)+j] = pixels[(py*w1)+px]\n",
    "#     return temp\n",
    "# new = resizeNearNeighbor(img, 100, 100, 400, 400)\n",
    "# print(new)"
   ]
  },
  {
   "cell_type": "code",
   "execution_count": 17,
   "id": "4f889d34",
   "metadata": {},
   "outputs": [
    {
     "ename": "ValueError",
     "evalue": "could not broadcast input array from shape (100,3) into shape (400,3)",
     "output_type": "error",
     "traceback": [
      "\u001b[1;31m---------------------------------------------------------------------------\u001b[0m",
      "\u001b[1;31mValueError\u001b[0m                                Traceback (most recent call last)",
      "\u001b[1;32m~\\AppData\\Local\\Temp/ipykernel_11396/1511755557.py\u001b[0m in \u001b[0;36m<module>\u001b[1;34m\u001b[0m\n\u001b[0;32m     21\u001b[0m         \u001b[0mpx\u001b[0m \u001b[1;33m=\u001b[0m \u001b[0mmath\u001b[0m\u001b[1;33m.\u001b[0m\u001b[0mfloor\u001b[0m\u001b[1;33m(\u001b[0m\u001b[0mj\u001b[0m\u001b[1;33m*\u001b[0m\u001b[0mx_ratio\u001b[0m\u001b[1;33m)\u001b[0m\u001b[1;33m\u001b[0m\u001b[1;33m\u001b[0m\u001b[0m\n\u001b[0;32m     22\u001b[0m         \u001b[0mpy\u001b[0m \u001b[1;33m=\u001b[0m \u001b[0mmath\u001b[0m\u001b[1;33m.\u001b[0m\u001b[0mfloor\u001b[0m\u001b[1;33m(\u001b[0m\u001b[0mi\u001b[0m\u001b[1;33m*\u001b[0m\u001b[0my_ratio\u001b[0m\u001b[1;33m)\u001b[0m\u001b[1;33m\u001b[0m\u001b[1;33m\u001b[0m\u001b[0m\n\u001b[1;32m---> 23\u001b[1;33m         \u001b[0mnewImage\u001b[0m\u001b[1;33m[\u001b[0m\u001b[1;33m(\u001b[0m\u001b[0mi\u001b[0m\u001b[1;33m*\u001b[0m\u001b[0mw2\u001b[0m\u001b[1;33m)\u001b[0m\u001b[1;33m+\u001b[0m\u001b[0mj\u001b[0m\u001b[1;33m]\u001b[0m \u001b[1;33m=\u001b[0m \u001b[0mm\u001b[0m\u001b[1;33m[\u001b[0m\u001b[1;33m(\u001b[0m\u001b[0mpy\u001b[0m\u001b[1;33m*\u001b[0m\u001b[0mw\u001b[0m\u001b[1;33m)\u001b[0m\u001b[1;33m+\u001b[0m\u001b[0mpx\u001b[0m\u001b[1;33m]\u001b[0m\u001b[1;33m\u001b[0m\u001b[1;33m\u001b[0m\u001b[0m\n\u001b[0m\u001b[0;32m     24\u001b[0m \u001b[1;31m#         newImage[(i*w2)+j, (i*h2)+j]= m[(py*w)+px,\u001b[0m\u001b[1;33m\u001b[0m\u001b[1;33m\u001b[0m\u001b[1;33m\u001b[0m\u001b[0m\n\u001b[0;32m     25\u001b[0m \u001b[1;31m#                                     (py*h)+px]\u001b[0m\u001b[1;33m\u001b[0m\u001b[1;33m\u001b[0m\u001b[1;33m\u001b[0m\u001b[0m\n",
      "\u001b[1;31mValueError\u001b[0m: could not broadcast input array from shape (100,3) into shape (400,3)"
     ]
    }
   ],
   "source": [
    "# using matplotlib and numpy\n",
    "\n",
    "import matplotlib.image as img\n",
    "import numpy as npy\n",
    "\n",
    "#đọc ảnh\n",
    "m = img.imread(\"small_color.png\");\n",
    "\n",
    "# lấy chiều rộng, chiều cao của ảnh\n",
    "w, h = m.shape[:2];\n",
    "\n",
    "# chiều rộng, chiều cao mới\n",
    "w2 = int(w * 4);\n",
    "h2 = int(h * 4);\n",
    "x_ratio = w/w2\n",
    "y_ratio = h/h2\n",
    "newImage = npy.zeros([w2, h2, 3]);\n",
    "\n",
    "for i in range(h2):\n",
    "    for j in range(w2):\n",
    "        px = math.floor(j*x_ratio)\n",
    "        py = math.floor(i*y_ratio)\n",
    "        newImage[(i*w2)+j] = m[(py*w)+px]\n",
    "#         newImage[(i*w2)+j, (i*h2)+j]= m[(py*w)+px,\n",
    "#                                     (py*h)+px]\n",
    "# Save the image after scaling\n",
    "img.imsave('scaled.png', newImage);"
   ]
  },
  {
   "cell_type": "code",
   "execution_count": null,
   "id": "efe87f38",
   "metadata": {},
   "outputs": [],
   "source": []
  }
 ],
 "metadata": {
  "kernelspec": {
   "display_name": "Python 3 (ipykernel)",
   "language": "python",
   "name": "python3"
  },
  "language_info": {
   "codemirror_mode": {
    "name": "ipython",
    "version": 3
   },
   "file_extension": ".py",
   "mimetype": "text/x-python",
   "name": "python",
   "nbconvert_exporter": "python",
   "pygments_lexer": "ipython3",
   "version": "3.9.1"
  }
 },
 "nbformat": 4,
 "nbformat_minor": 5
}
